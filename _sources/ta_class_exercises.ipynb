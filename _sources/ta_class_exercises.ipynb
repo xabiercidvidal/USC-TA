{
 "cells": [
  {
   "cell_type": "code",
   "execution_count": 3,
   "id": "e27d36c5-bc11-493a-a082-60fb6df16da4",
   "metadata": {
    "editable": true,
    "slideshow": {
     "slide_type": ""
    },
    "tags": []
   },
   "outputs": [],
   "source": [
    "# general imports\n",
    "%matplotlib inline\n",
    "%reload_ext autoreload\n",
    "%autoreload 2\n",
    "\n",
    "# numpy and matplotlib\n",
    "import numpy as np\n",
    "import matplotlib.pyplot as plt\n",
    "import scipy.stats       as stats\n",
    "import scipy.optimize     as optimize \n",
    "\n",
    "import htintro_examples  as htexam\n",
    "\n",
    "plt.style.context('seaborn-colorblind');"
   ]
  },
  {
   "cell_type": "markdown",
   "id": "adb14404-e7be-4bb8-91da-4c9c5d21dfb2",
   "metadata": {
    "editable": true,
    "slideshow": {
     "slide_type": ""
    },
    "tags": []
   },
   "source": [
    "### Basic concepts 1\n",
    "In a low prevalence population, the probability of an individual to have HIV+ is 1 in 1000. Consider a medical test of HIV. \n",
    "\n",
    "If the patient is HIV+, the test is positive in 99.8 % of the times (true-positive), but if the person is HIV-, the test can wrongly be positive 0.2 % of the times (false positive). \n",
    "\n",
    "After a test, a patient is diagnosed with HIV+, what is the probability that he has HIV +? Should the doctor repeat the test?"
   ]
  },
  {
   "cell_type": "markdown",
   "id": "870639dd-60e1-4d84-8686-d3687a50cca2",
   "metadata": {
    "editable": true,
    "slideshow": {
     "slide_type": ""
    },
    "tags": []
   },
   "source": [
    "$$\n",
    "p(H+ | +) = \\frac{p(+ | H+) p(H+)}{p(+)} =  \\frac{p(+ | H+) p(H+)}{p(+ | H+) p (H+) + p(+ | H-) p (H-)}\n",
    "$$\n",
    "\n",
    "with\n",
    "\n",
    "$$\n",
    "p(H+) = 10^{-3}, \\; p(H-) = 1-10^{-3}, \\; p(+ | H+) = 0.998, \\; p(+ | H-) = 0.002 \n",
    "$$"
   ]
  },
  {
   "cell_type": "code",
   "execution_count": 4,
   "id": "2d2693ad-ce57-4e9e-8c04-e3cadb199830",
   "metadata": {},
   "outputs": [
    {
     "name": "stdout",
     "output_type": "stream",
     "text": [
      "0.3331108144192256\n"
     ]
    }
   ],
   "source": [
    "\"\"\"\n",
    "pa = probability of being positive\n",
    "pxa = probability of testing positive if the patient is positive\n",
    "pxnoa = probability of testing positive if the patient negative\n",
    "\"\"\"\n",
    "def bayes_pax(pa, pxa, pxnoa):\n",
    "    return (pxa * pa) / (pxa * pa + pxnoa * (1-pa))\n",
    "\n",
    "pax = bayes_pax(1e-3, 0.998, 0.002)\n",
    "print(pax)"
   ]
  },
  {
   "cell_type": "markdown",
   "id": "01c3493d-b60e-4fce-99ca-49810f59bfd9",
   "metadata": {
    "editable": true,
    "slideshow": {
     "slide_type": ""
    },
    "tags": []
   },
   "source": [
    "### Basic concepts 2:\n",
    "Compare a gaussian distribution, with $\\mu=p \\, N, \\, \\sigma = \\sqrt{\\mu}$ with a binomial when $N$ is large and $p$ is small and $\\mu = N p > 50$. You can use $stats.binom$ and $stats.norm$."
   ]
  },
  {
   "cell_type": "code",
   "execution_count": 5,
   "id": "bdfb9956-1501-4618-8969-f9f42758dc20",
   "metadata": {
    "editable": true,
    "slideshow": {
     "slide_type": ""
    },
    "tags": []
   },
   "outputs": [
    {
     "data": {
      "image/png": "[encoded data removed]",
      "text/plain": [
       "<Figure size 640x480 with 1 Axes>"
      ]
     },
     "metadata": {},
     "output_type": "display_data"
    }
   ],
   "source": [
    "N, p = 1e4, 50./1e4; ns = np.arange(100)\n",
    "plt.bar(ns, stats.binom.pmf(ns, N, p)            , color='green' , alpha=0.5, label='binomial')\n",
    "plt.bar(ns, stats.norm.pdf(ns, N*p, np.sqrt(N*p)), color='orange', alpha=0.5, label='gaussian')\n",
    "plt.xlabel('x'); plt.ylabel('g(x)'); plt.legend();"
   ]
  }
 ],
 "metadata": {
  "kernelspec": {
   "display_name": "Python (my-local-env)",
   "language": "python",
   "name": "my-local-env"
  },
  "language_info": {
   "codemirror_mode": {
    "name": "ipython",
    "version": 3
   },
   "file_extension": ".py",
   "mimetype": "text/x-python",
   "name": "python",
   "nbconvert_exporter": "python",
   "pygments_lexer": "ipython3",
   "version": "3.9.6"
  }
 },
 "nbformat": 4,
 "nbformat_minor": 5
}
